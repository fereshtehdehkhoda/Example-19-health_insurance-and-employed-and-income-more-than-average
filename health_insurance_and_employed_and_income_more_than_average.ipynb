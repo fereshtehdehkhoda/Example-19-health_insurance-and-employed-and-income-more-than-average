{
  "cells": [
    {
      "cell_type": "markdown",
      "metadata": {
        "id": "view-in-github",
        "colab_type": "text"
      },
      "source": [
        "<a href=\"https://colab.research.google.com/github/fereshtehdehkhoda/Example-19-health_insurance-and-employed-and-income-more-than-average/blob/main/health_insurance_and_employed_and_income_more_than_average.ipynb\" target=\"_parent\"><img src=\"https://colab.research.google.com/assets/colab-badge.svg\" alt=\"Open In Colab\"/></a>"
      ]
    },
    {
      "cell_type": "markdown",
      "id": "2c8f460d-dada-4ff9-9ddb-d62676052c00",
      "metadata": {
        "id": "2c8f460d-dada-4ff9-9ddb-d62676052c00"
      },
      "source": [
        "# health_insurance and employed and income more than average"
      ]
    },
    {
      "cell_type": "code",
      "execution_count": null,
      "id": "693552f8-f3a8-4fa4-8069-e1ff67f1ef9a",
      "metadata": {
        "id": "693552f8-f3a8-4fa4-8069-e1ff67f1ef9a"
      },
      "outputs": [],
      "source": [
        "#چند درصد مشتریانی که دارای بیمه سلامت هستند، شاغلند و درآمد بالای سطح متوسط دارند؟"
      ]
    },
    {
      "cell_type": "code",
      "execution_count": null,
      "id": "b8bb38fd-d6cb-45eb-8047-23bec715389e",
      "metadata": {
        "id": "b8bb38fd-d6cb-45eb-8047-23bec715389e"
      },
      "outputs": [],
      "source": [
        "import pandas as pd\n",
        "import numpy as np"
      ]
    },
    {
      "cell_type": "code",
      "execution_count": null,
      "id": "e6f7e73f-4e93-47c3-b5ca-d898761b5fa6",
      "metadata": {
        "id": "e6f7e73f-4e93-47c3-b5ca-d898761b5fa6"
      },
      "outputs": [],
      "source": [
        "data=pd.read_csv('sample_data.csv')"
      ]
    },
    {
      "cell_type": "code",
      "execution_count": null,
      "id": "f8113393-f8fe-4ca0-b261-8564a9ec0d3f",
      "metadata": {
        "id": "f8113393-f8fe-4ca0-b261-8564a9ec0d3f",
        "outputId": "c559fdf4-0f36-4e4e-f8e5-3c8f0d9d6400"
      },
      "outputs": [
        {
          "name": "stdout",
          "output_type": "stream",
          "text": [
            "<class 'pandas.core.frame.DataFrame'>\n",
            "RangeIndex: 500 entries, 0 to 499\n",
            "Data columns (total 11 columns):\n",
            " #   Column            Non-Null Count  Dtype  \n",
            "---  ------            --------------  -----  \n",
            " 0   id                500 non-null    int64  \n",
            " 1   sex               500 non-null    object \n",
            " 2   is_employed       435 non-null    object \n",
            " 3   income            493 non-null    float64\n",
            " 4   marital_status    500 non-null    object \n",
            " 5   health_insurance  500 non-null    bool   \n",
            " 6   housing_type      466 non-null    object \n",
            " 7   recent_move       466 non-null    object \n",
            " 8   num_vehicles      466 non-null    float64\n",
            " 9   age               500 non-null    float64\n",
            " 10  state_of_res      500 non-null    object \n",
            "dtypes: bool(1), float64(3), int64(1), object(6)\n",
            "memory usage: 39.7+ KB\n"
          ]
        }
      ],
      "source": [
        "data.info()"
      ]
    },
    {
      "cell_type": "code",
      "execution_count": null,
      "id": "5e7ea337-91f8-4bb8-b7af-f3d8829c4d14",
      "metadata": {
        "id": "5e7ea337-91f8-4bb8-b7af-f3d8829c4d14",
        "outputId": "fd138a04-a01b-4b2d-ea22-6fe75742aeb4"
      },
      "outputs": [
        {
          "data": {
            "text/plain": [
              "39.34426229508197"
            ]
          },
          "execution_count": 22,
          "metadata": {},
          "output_type": "execute_result"
        }
      ],
      "source": [
        "np.sum((data['health_insurance']==True) &\n",
        "(data['is_employed']==True) &\n",
        "(data['income']>np.mean(data['income'])))/np.sum((data['is_employed'].notnull()) & (data['income'].notnull()) & (data['health_insurance']))*100"
      ]
    },
    {
      "cell_type": "code",
      "execution_count": null,
      "id": "5d870c76-0c0e-443b-971a-f845596a1658",
      "metadata": {
        "id": "5d870c76-0c0e-443b-971a-f845596a1658"
      },
      "outputs": [],
      "source": []
    }
  ],
  "metadata": {
    "kernelspec": {
      "display_name": "Python 3 (ipykernel)",
      "language": "python",
      "name": "python3"
    },
    "language_info": {
      "codemirror_mode": {
        "name": "ipython",
        "version": 3
      },
      "file_extension": ".py",
      "mimetype": "text/x-python",
      "name": "python",
      "nbconvert_exporter": "python",
      "pygments_lexer": "ipython3",
      "version": "3.12.4"
    },
    "colab": {
      "provenance": [],
      "include_colab_link": true
    }
  },
  "nbformat": 4,
  "nbformat_minor": 5
}